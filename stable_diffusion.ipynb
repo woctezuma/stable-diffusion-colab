{
  "nbformat": 4,
  "nbformat_minor": 0,
  "metadata": {
    "colab": {
      "name": "stable-diffusion.ipynb",
      "private_outputs": true,
      "provenance": []
    },
    "kernelspec": {
      "name": "python3",
      "display_name": "Python 3"
    },
    "language_info": {
      "name": "python"
    },
    "accelerator": "GPU",
    "gpuClass": "standard"
  },
  "cells": [
    {
      "cell_type": "code",
      "source": [
        "%pip install --quiet --upgrade diffusers transformers accelerate mediapy peft"
      ],
      "metadata": {
        "id": "ufD_d64nr08H"
      },
      "execution_count": null,
      "outputs": []
    },
    {
      "cell_type": "code",
      "source": [
        "import mediapy as media\n",
        "import random\n",
        "import sys\n",
        "import torch\n",
        "\n",
        "from diffusers import DiffusionPipeline, TCDScheduler\n",
        "from huggingface_hub import hf_hub_download\n",
        "\n",
        "# Choose either 8 or 12 steps:\n",
        "num_inference_steps = 12\n",
        "\n",
        "base_model_id = \"stabilityai/stable-diffusion-xl-base-1.0\"\n",
        "repo_name = \"ByteDance/Hyper-SD\"\n",
        "plural = \"s\" if num_inference_steps > 1 else \"\"\n",
        "ckpt_name = f\"Hyper-SDXL-{num_inference_steps}step{plural}-CFG-lora.safetensors\"\n",
        "device = \"cuda\"\n",
        "\n",
        "pipe = DiffusionPipeline.from_pretrained(base_model_id, torch_dtype=torch.float16, variant=\"fp16\").to(device)\n",
        "pipe.load_lora_weights(hf_hub_download(repo_name, ckpt_name))\n",
        "pipe.fuse_lora()\n",
        "pipe.scheduler = TCDScheduler.from_config(pipe.scheduler.config)"
      ],
      "metadata": {
        "id": "bG2hkmSEvByV"
      },
      "execution_count": null,
      "outputs": []
    },
    {
      "cell_type": "code",
      "source": [
        "prompt = \"a photo of Pikachu fine dining with a view to the Eiffel Tower\"\n",
        "seed = random.randint(0, sys.maxsize)\n",
        "\n",
        "# Pick a value between 5.0 and 8.0:\n",
        "guidance_scale = 5.0\n",
        "\n",
        "# Decrease eta (min: 0, max: 1.0) to get more details with multi-step inference:\n",
        "eta = 0.5\n",
        "\n",
        "images = pipe(\n",
        "    prompt = prompt,\n",
        "    num_inference_steps = num_inference_steps,\n",
        "    guidance_scale = guidance_scale,\n",
        "    eta = eta,\n",
        "    generator = torch.Generator(device).manual_seed(seed),\n",
        "    ).images\n",
        "\n",
        "print(f\"Prompt:\\t{prompt}\\nSeed:\\t{seed}\")\n",
        "media.show_images(images)\n",
        "images[0].save(\"output.jpg\")"
      ],
      "metadata": {
        "id": "AUc4QJfE-uR9"
      },
      "execution_count": null,
      "outputs": []
    }
  ]
}