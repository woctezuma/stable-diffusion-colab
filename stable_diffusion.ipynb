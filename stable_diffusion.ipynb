{
  "nbformat": 4,
  "nbformat_minor": 0,
  "metadata": {
    "colab": {
      "name": "stable-diffusion.ipynb",
      "private_outputs": true,
      "provenance": []
    },
    "kernelspec": {
      "name": "python3",
      "display_name": "Python 3"
    },
    "language_info": {
      "name": "python"
    },
    "accelerator": "GPU",
    "gpuClass": "standard"
  },
  "cells": [
    {
      "cell_type": "code",
      "source": [
        "%pip install --quiet --upgrade diffusers transformers accelerate mediapy"
      ],
      "metadata": {
        "id": "ufD_d64nr08H"
      },
      "execution_count": null,
      "outputs": []
    },
    {
      "cell_type": "code",
      "source": [
        "import mediapy as media\n",
        "import random\n",
        "import sys\n",
        "import torch\n",
        "\n",
        "from diffusers import StableCascadeCombinedPipeline\n",
        "\n",
        "device = \"cuda\"\n",
        "\n",
        "pipe = StableCascadeCombinedPipeline.from_pretrained(\n",
        "    \"stabilityai/stable-cascade\",\n",
        "    variant = \"bf16\",\n",
        "    torch_dtype = torch.bfloat16,\n",
        "    ).to(device)"
      ],
      "metadata": {
        "id": "bG2hkmSEvByV"
      },
      "execution_count": null,
      "outputs": []
    },
    {
      "cell_type": "code",
      "source": [
        "prompt = \"a photo of Pikachu fine dining with a view to the Eiffel Tower\"\n",
        "seed = random.randint(0, sys.maxsize)\n",
        "\n",
        "negative_prompt = \"3d, cartoon, anime, (deformed eyes, nose, ears, nose), bad anatomy, ugly\"\n",
        "image_length = 1024\n",
        "\n",
        "images = pipe(\n",
        "    prompt = prompt,\n",
        "    height = image_length,\n",
        "    width = image_length,\n",
        "    prior_num_inference_steps = 20,\n",
        "    prior_guidance_scale = 4.0,\n",
        "    num_inference_steps = 12,\n",
        "    decoder_guidance_scale = 0.0,\n",
        "    negative_prompt = negative_prompt,\n",
        "    num_images_per_prompt = 1,\n",
        "    generator = torch.Generator(device).manual_seed(seed),\n",
        "    ).images\n",
        "\n",
        "print(f\"Prompt:\\t{prompt}\\nSeed:\\t{seed}\")\n",
        "media.show_images(images)\n",
        "images[0].save(\"output.jpg\")"
      ],
      "metadata": {
        "id": "AUc4QJfE-uR9"
      },
      "execution_count": null,
      "outputs": []
    }
  ]
}