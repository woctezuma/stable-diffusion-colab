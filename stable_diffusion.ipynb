{
  "nbformat": 4,
  "nbformat_minor": 0,
  "metadata": {
    "colab": {
      "name": "stable-diffusion.ipynb",
      "private_outputs": true,
      "provenance": []
    },
    "kernelspec": {
      "name": "python3",
      "display_name": "Python 3"
    },
    "language_info": {
      "name": "python"
    },
    "accelerator": "GPU",
    "gpuClass": "standard"
  },
  "cells": [
    {
      "cell_type": "code",
      "source": [
        "%pip install --quiet --upgrade diffusers transformers accelerate mediapy"
      ],
      "metadata": {
        "id": "ufD_d64nr08H"
      },
      "execution_count": null,
      "outputs": []
    },
    {
      "cell_type": "code",
      "source": [
        "import mediapy as media\n",
        "import random\n",
        "import sys\n",
        "import torch\n",
        "\n",
        "from diffusers import StableDiffusionXLPipeline, UNet2DConditionModel, EulerDiscreteScheduler\n",
        "from huggingface_hub import hf_hub_download\n",
        "from safetensors.torch import load_file\n",
        "\n",
        "# Pick:\n",
        "# -    2, 4 or 8 steps for lora,\n",
        "# - 1, 2, 4 or 8 steps for unet.\n",
        "num_inference_steps = 4\n",
        "\n",
        "# Prefer \"unet\" over \"lora\" for quality.\n",
        "use_lora = False\n",
        "model_type = \"lora\" if use_lora else \"unet\"\n",
        "\n",
        "base = \"stabilityai/stable-diffusion-xl-base-1.0\"\n",
        "repo = \"ByteDance/SDXL-Lightning\"\n",
        "ckpt = f\"sdxl_lightning_{num_inference_steps}step_{model_type}.safetensors\"\n",
        "device = \"cuda\""
      ],
      "metadata": {
        "id": "bG2hkmSEvByV"
      },
      "execution_count": null,
      "outputs": []
    },
    {
      "cell_type": "code",
      "source": [
        "unet = UNet2DConditionModel.from_config(\n",
        "    base,\n",
        "    subfolder=\"unet\",\n",
        "    ).to(device, torch.float16)\n",
        "\n",
        "unet.load_state_dict(\n",
        "    load_file(\n",
        "        hf_hub_download(\n",
        "            repo,\n",
        "            ckpt,\n",
        "            ),\n",
        "        device=device,\n",
        "        ),\n",
        "    )"
      ],
      "metadata": {
        "id": "Zi65OQ-1BRsJ"
      },
      "execution_count": null,
      "outputs": []
    },
    {
      "cell_type": "code",
      "source": [
        "pipe = StableDiffusionXLPipeline.from_pretrained(\n",
        "    base,\n",
        "    unet=unet,\n",
        "    torch_dtype=torch.float16,\n",
        "    use_safetensors=True,\n",
        "    variant=\"fp16\",\n",
        "    ).to(device)\n",
        "\n",
        "if use_lora:\n",
        "  pipe.load_lora_weights(hf_hub_download(repo, ckpt))\n",
        "  pipe.fuse_lora()\n",
        "\n",
        "pipe.scheduler = EulerDiscreteScheduler.from_config(\n",
        "    pipe.scheduler.config,\n",
        "    timestep_spacing=\"trailing\",\n",
        "    )"
      ],
      "metadata": {
        "id": "A1Kzh37RBTZL"
      },
      "execution_count": null,
      "outputs": []
    },
    {
      "cell_type": "code",
      "source": [
        "prompt = \"a photo of Pikachu fine dining with a view to the Eiffel Tower\"\n",
        "seed = random.randint(0, sys.maxsize)\n",
        "\n",
        "images = pipe(\n",
        "    prompt = prompt,\n",
        "    guidance_scale = 0.0,\n",
        "    num_inference_steps = num_inference_steps,\n",
        "    generator = torch.Generator(\"cuda\").manual_seed(seed),\n",
        "    ).images\n",
        "\n",
        "print(f\"Prompt:\\t{prompt}\\nSeed:\\t{seed}\")\n",
        "media.show_images(images)\n",
        "images[0].save(\"output.jpg\")"
      ],
      "metadata": {
        "id": "AUc4QJfE-uR9"
      },
      "execution_count": null,
      "outputs": []
    }
  ]
}