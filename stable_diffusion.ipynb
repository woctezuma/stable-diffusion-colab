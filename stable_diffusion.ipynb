{
  "nbformat": 4,
  "nbformat_minor": 0,
  "metadata": {
    "colab": {
      "name": "stable-diffusion.ipynb",
      "private_outputs": true,
      "provenance": [],
      "collapsed_sections": []
    },
    "kernelspec": {
      "name": "python3",
      "display_name": "Python 3"
    },
    "language_info": {
      "name": "python"
    },
    "accelerator": "GPU",
    "gpuClass": "standard"
  },
  "cells": [
    {
      "cell_type": "code",
      "execution_count": null,
      "metadata": {
        "id": "QuFz5uGi-h6G"
      },
      "outputs": [],
      "source": [
        "%pip install --quiet --upgrade diffusers transformers scipy mediapy accelerate ftfy spacy"
      ]
    },
    {
      "cell_type": "code",
      "source": [
        "model_id = \"stabilityai/stable-diffusion-2-base\"\n",
        "# model_id = \"stabilityai/stable-diffusion-2\""
      ],
      "metadata": {
        "id": "GR4vF2bw-sHR"
      },
      "execution_count": null,
      "outputs": []
    },
    {
      "cell_type": "code",
      "source": [
        "from diffusers import PNDMScheduler, DDIMScheduler, LMSDiscreteScheduler, EulerDiscreteScheduler\n",
        "\n",
        "scheduler = PNDMScheduler.from_pretrained(model_id, subfolder=\"scheduler\")\n",
        "# scheduler = DDIMScheduler.from_pretrained(model_id, subfolder=\"scheduler\")\n",
        "# scheduler = LMSDiscreteScheduler.from_pretrained(model_id, subfolder=\"scheduler\")\n",
        "# scheduler = EulerDiscreteScheduler.from_pretrained(model_id, subfolder=\"scheduler\")"
      ],
      "metadata": {
        "id": "vF9Q0xKX8gLR"
      },
      "execution_count": null,
      "outputs": []
    },
    {
      "cell_type": "code",
      "source": [
        "import mediapy as media\n",
        "import torch\n",
        "from torch import autocast\n",
        "from diffusers import StableDiffusionPipeline\n",
        "\n",
        "device = \"cuda\"\n",
        "\n",
        "pipe = StableDiffusionPipeline.from_pretrained(\n",
        "    model_id,\n",
        "    scheduler=scheduler,\n",
        "    torch_dtype=torch.float16,\n",
        "    revision=\"fp16\",\n",
        "    )\n",
        "pipe = pipe.to(device)\n",
        "\n",
        "if model_id.endswith('-base'):\n",
        "  image_length = 512\n",
        "else:\n",
        "  image_length = 768\n",
        "\n"
      ],
      "metadata": {
        "id": "bG2hkmSEvByV"
      },
      "execution_count": null,
      "outputs": []
    },
    {
      "cell_type": "code",
      "source": [
        "prompt = \"a photo of an astronaut riding a horse on mars\"\n",
        "num_images = 1\n",
        "\n",
        "prompts = [ prompt ] * num_images\n",
        "with autocast(\"cuda\"):\n",
        "    images = pipe(\n",
        "        prompts,\n",
        "        guidance_scale=7.5,\n",
        "        num_inference_steps=50,\n",
        "        height=image_length,\n",
        "        width=image_length,\n",
        "        ).images\n",
        "    \n",
        "media.show_images(images)\n",
        "images[0].save(\"output.jpg\")"
      ],
      "metadata": {
        "id": "AUc4QJfE-uR9"
      },
      "execution_count": null,
      "outputs": []
    }
  ]
}
